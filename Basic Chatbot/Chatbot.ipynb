{
 "cells": [
  {
   "cell_type": "code",
   "execution_count": 1,
   "metadata": {},
   "outputs": [
    {
     "name": "stdout",
     "output_type": "stream",
     "text": [
      "WARNING:tensorflow:From c:\\Users\\vrush\\anaconda3\\Lib\\site-packages\\keras\\src\\losses.py:2976: The name tf.losses.sparse_softmax_cross_entropy is deprecated. Please use tf.compat.v1.losses.sparse_softmax_cross_entropy instead.\n",
      "\n"
     ]
    }
   ],
   "source": [
    "import json \n",
    "import numpy as np\n",
    "import pandas as pd\n",
    "from nltk_utils import tokenize, stem, bag_of_words\n",
    "\n",
    "import tensorflow as tf"
   ]
  },
  {
   "cell_type": "code",
   "execution_count": 2,
   "metadata": {},
   "outputs": [],
   "source": [
    "ignore_words = [\"?\", \"i\", \"it\", \"a\", \"!\", \"me\", \"can\", \"you\", \"'s\", \"does\", \"of\", \"do\", \"my\"]"
   ]
  },
  {
   "cell_type": "markdown",
   "metadata": {},
   "source": [
    "# Train"
   ]
  },
  {
   "cell_type": "code",
   "execution_count": 3,
   "metadata": {},
   "outputs": [],
   "source": [
    "# get tags and set of all words from training data\n",
    "# xy contains sample prompt and its expected output category\n",
    "\n",
    "with open(\"intents.json\", \"r\") as f:\n",
    "    intents = json.load(f)\n",
    "\n",
    "tags = []\n",
    "all_words = []\n",
    "xy = []\n",
    "\n",
    "for intent in intents[\"intents\"]:\n",
    "    tag = intent[\"tag\"]\n",
    "    tags.append(tag)\n",
    "    \n",
    "    for pattern in intent[\"patterns\"]:\n",
    "        \n",
    "        words = tokenize(pattern)\n",
    "        l1 = [stem(w) for w in words if w.lower() not in ignore_words]\n",
    "        \n",
    "        all_words.extend(l1)\n",
    "        xy.append((l1, tag))\n",
    "\n",
    "all_words = sorted(set(all_words))\n",
    "np.random.shuffle(xy)"
   ]
  },
  {
   "cell_type": "code",
   "execution_count": 4,
   "metadata": {},
   "outputs": [
    {
     "name": "stdout",
     "output_type": "stream",
     "text": [
      "['greeting', 'goodbye', 'thanks', 'items', 'payments', 'delivery', 'funny']\n",
      "['accept', 'appreci', 'are', 'around', 'bye', 'card', 'cash', 'credit', 'deliv', 'deliveri', 'funni', 'get', 'goodby', 'have', 'hello', 'help', 'hey', 'hi', 'how', 'is', 'item', 'joke', 'kind', 'know', 'later', 'long', 'lot', 'mastercard', 'name', 'onli', 'pay', 'paypal', 'realli', 'see', 'sell', 'someth', 'take', 'tell', 'thank', 'that', 'there', 'time', 'up', 'what', 'when', 'which', 'with', 'ya', 'your']\n",
      "[(['goodby'], 'goodbye'), (['which', 'item', 'have'], 'items'), (['realli', 'appreci'], 'thanks'), (['tell', 'someth', 'funni'], 'funny'), (['see', 'ya'], 'goodbye'), (['bye'], 'goodbye'), (['thank'], 'thanks'), (['deliv'], 'delivery'), (['hi'], 'greeting'), (['how', 'long', 'deliveri', 'take'], 'delivery'), (['thank'], 'thanks'), (['tell', 'joke'], 'funny'), (['are', 'cash', 'onli'], 'payments'), (['what', 'sell'], 'items'), (['take', 'credit', 'card'], 'payments'), (['hey'], 'greeting'), (['name', 'is'], 'greeting'), (['know', 'joke'], 'funny'), (['what', 'kind', 'item', 'are', 'there'], 'items'), (['see', 'later'], 'goodbye'), (['what', 'is', 'your', 'deliveri', 'time'], 'delivery'), (['when', 'get', 'deliveri'], 'delivery'), (['hello'], 'greeting'), (['what', 'up'], 'greeting'), (['see', 'around'], 'goodbye'), (['accept', 'mastercard'], 'payments'), (['pay', 'with', 'paypal'], 'payments'), (['that', 'help'], 'thanks'), (['thank', 'lot'], 'thanks'), (['how', 'are'], 'greeting')]\n"
     ]
    }
   ],
   "source": [
    "print(tags)\n",
    "print(all_words)\n",
    "print(xy)"
   ]
  },
  {
   "cell_type": "code",
   "execution_count": 5,
   "metadata": {},
   "outputs": [],
   "source": [
    "# Prepare training set\n",
    "\n",
    "X_train = []\n",
    "y_train = []\n",
    "\n",
    "for sentence, tag in xy:\n",
    "    bag = bag_of_words(sentence, all_words)\n",
    "    X_train.append(bag)\n",
    "\n",
    "    label = bag_of_words(tag, tags)\n",
    "    y_train.append(label)\n",
    "\n",
    "X_train = np.array(X_train)\n",
    "y_train = np.array(y_train)"
   ]
  },
  {
   "cell_type": "code",
   "execution_count": 6,
   "metadata": {},
   "outputs": [
    {
     "data": {
      "text/plain": [
       "array([[0., 0., 0., ..., 0., 0., 0.],\n",
       "       [0., 0., 0., ..., 0., 0., 0.],\n",
       "       [0., 1., 0., ..., 0., 0., 0.],\n",
       "       ...,\n",
       "       [0., 0., 0., ..., 0., 0., 0.],\n",
       "       [0., 0., 0., ..., 0., 0., 0.],\n",
       "       [0., 0., 1., ..., 0., 0., 0.]], dtype=float32)"
      ]
     },
     "execution_count": 6,
     "metadata": {},
     "output_type": "execute_result"
    }
   ],
   "source": [
    "X_train"
   ]
  },
  {
   "cell_type": "markdown",
   "metadata": {},
   "source": [
    "# Model"
   ]
  },
  {
   "cell_type": "code",
   "execution_count": 7,
   "metadata": {},
   "outputs": [
    {
     "name": "stdout",
     "output_type": "stream",
     "text": [
      "WARNING:tensorflow:From c:\\Users\\vrush\\anaconda3\\Lib\\site-packages\\keras\\src\\backend.py:873: The name tf.get_default_graph is deprecated. Please use tf.compat.v1.get_default_graph instead.\n",
      "\n",
      "WARNING:tensorflow:From c:\\Users\\vrush\\anaconda3\\Lib\\site-packages\\keras\\src\\optimizers\\__init__.py:309: The name tf.train.Optimizer is deprecated. Please use tf.compat.v1.train.Optimizer instead.\n",
      "\n"
     ]
    }
   ],
   "source": [
    "ann = tf.keras.models.Sequential()\n",
    "\n",
    "ann.add(tf.keras.layers.Dense(units=16, input_dim = len(all_words), activation='relu'))\n",
    "ann.add(tf.keras.layers.Dense(units=16, activation='relu'))\n",
    "\n",
    "ann.add(tf.keras.layers.Dense(units=len(tags) , activation='softmax'))\n",
    "\n",
    "ann.compile(optimizer = 'adam', loss = 'categorical_crossentropy', metrics=['accuracy']) "
   ]
  },
  {
   "cell_type": "code",
   "execution_count": 8,
   "metadata": {},
   "outputs": [
    {
     "name": "stdout",
     "output_type": "stream",
     "text": [
      "Epoch 1/100\n",
      "WARNING:tensorflow:From c:\\Users\\vrush\\anaconda3\\Lib\\site-packages\\keras\\src\\utils\\tf_utils.py:492: The name tf.ragged.RaggedTensorValue is deprecated. Please use tf.compat.v1.ragged.RaggedTensorValue instead.\n",
      "\n",
      "WARNING:tensorflow:From c:\\Users\\vrush\\anaconda3\\Lib\\site-packages\\keras\\src\\engine\\base_layer_utils.py:384: The name tf.executing_eagerly_outside_functions is deprecated. Please use tf.compat.v1.executing_eagerly_outside_functions instead.\n",
      "\n",
      "6/6 [==============================] - 0s 2ms/step - loss: 1.9235 - accuracy: 0.1667\n",
      "Epoch 2/100\n",
      "6/6 [==============================] - 0s 1ms/step - loss: 1.9031 - accuracy: 0.2000\n",
      "Epoch 3/100\n",
      "6/6 [==============================] - 0s 1ms/step - loss: 1.8868 - accuracy: 0.2000\n",
      "Epoch 4/100\n",
      "6/6 [==============================] - 0s 1000us/step - loss: 1.8695 - accuracy: 0.3333\n",
      "Epoch 5/100\n",
      "6/6 [==============================] - 0s 1ms/step - loss: 1.8544 - accuracy: 0.4000\n",
      "Epoch 6/100\n",
      "6/6 [==============================] - 0s 1ms/step - loss: 1.8389 - accuracy: 0.4333\n",
      "Epoch 7/100\n",
      "6/6 [==============================] - 0s 1ms/step - loss: 1.8240 - accuracy: 0.4333\n",
      "Epoch 8/100\n",
      "6/6 [==============================] - 0s 902us/step - loss: 1.8095 - accuracy: 0.4333\n",
      "Epoch 9/100\n",
      "6/6 [==============================] - 0s 1ms/step - loss: 1.7939 - accuracy: 0.4667\n",
      "Epoch 10/100\n",
      "6/6 [==============================] - 0s 1ms/step - loss: 1.7786 - accuracy: 0.4667\n",
      "Epoch 11/100\n",
      "6/6 [==============================] - 0s 1ms/step - loss: 1.7622 - accuracy: 0.5000\n",
      "Epoch 12/100\n",
      "6/6 [==============================] - 0s 1000us/step - loss: 1.7457 - accuracy: 0.5000\n",
      "Epoch 13/100\n",
      "6/6 [==============================] - 0s 1ms/step - loss: 1.7298 - accuracy: 0.5000\n",
      "Epoch 14/100\n",
      "6/6 [==============================] - 0s 1ms/step - loss: 1.7123 - accuracy: 0.5000\n",
      "Epoch 15/100\n",
      "6/6 [==============================] - 0s 1ms/step - loss: 1.6944 - accuracy: 0.5000\n",
      "Epoch 16/100\n",
      "6/6 [==============================] - 0s 1ms/step - loss: 1.6768 - accuracy: 0.5333\n",
      "Epoch 17/100\n",
      "6/6 [==============================] - 0s 1ms/step - loss: 1.6571 - accuracy: 0.5333\n",
      "Epoch 18/100\n",
      "6/6 [==============================] - 0s 1ms/step - loss: 1.6372 - accuracy: 0.5333\n",
      "Epoch 19/100\n",
      "6/6 [==============================] - 0s 1ms/step - loss: 1.6154 - accuracy: 0.5333\n",
      "Epoch 20/100\n",
      "6/6 [==============================] - 0s 936us/step - loss: 1.5944 - accuracy: 0.5333\n",
      "Epoch 21/100\n",
      "6/6 [==============================] - 0s 1ms/step - loss: 1.5708 - accuracy: 0.6000\n",
      "Epoch 22/100\n",
      "6/6 [==============================] - 0s 1ms/step - loss: 1.5467 - accuracy: 0.6000\n",
      "Epoch 23/100\n",
      "6/6 [==============================] - 0s 806us/step - loss: 1.5222 - accuracy: 0.6000\n",
      "Epoch 24/100\n",
      "6/6 [==============================] - 0s 1ms/step - loss: 1.4971 - accuracy: 0.6000\n",
      "Epoch 25/100\n",
      "6/6 [==============================] - 0s 1ms/step - loss: 1.4707 - accuracy: 0.6667\n",
      "Epoch 26/100\n",
      "6/6 [==============================] - 0s 1ms/step - loss: 1.4447 - accuracy: 0.7000\n",
      "Epoch 27/100\n",
      "6/6 [==============================] - 0s 1ms/step - loss: 1.4167 - accuracy: 0.7333\n",
      "Epoch 28/100\n",
      "6/6 [==============================] - 0s 1ms/step - loss: 1.3874 - accuracy: 0.7333\n",
      "Epoch 29/100\n",
      "6/6 [==============================] - 0s 3ms/step - loss: 1.3589 - accuracy: 0.7667\n",
      "Epoch 30/100\n",
      "6/6 [==============================] - 0s 2ms/step - loss: 1.3298 - accuracy: 0.7667\n",
      "Epoch 31/100\n",
      "6/6 [==============================] - 0s 1ms/step - loss: 1.2980 - accuracy: 0.7667\n",
      "Epoch 32/100\n",
      "6/6 [==============================] - 0s 1ms/step - loss: 1.2670 - accuracy: 0.7667\n",
      "Epoch 33/100\n",
      "6/6 [==============================] - 0s 1ms/step - loss: 1.2348 - accuracy: 0.7667\n",
      "Epoch 34/100\n",
      "6/6 [==============================] - 0s 1ms/step - loss: 1.2010 - accuracy: 0.8000\n",
      "Epoch 35/100\n",
      "6/6 [==============================] - 0s 1ms/step - loss: 1.1693 - accuracy: 0.8000\n",
      "Epoch 36/100\n",
      "6/6 [==============================] - 0s 1ms/step - loss: 1.1368 - accuracy: 0.8000\n",
      "Epoch 37/100\n",
      "6/6 [==============================] - 0s 1ms/step - loss: 1.1031 - accuracy: 0.8000\n",
      "Epoch 38/100\n",
      "6/6 [==============================] - 0s 1ms/step - loss: 1.0707 - accuracy: 0.9333\n",
      "Epoch 39/100\n",
      "6/6 [==============================] - 0s 1ms/step - loss: 1.0364 - accuracy: 0.9333\n",
      "Epoch 40/100\n",
      "6/6 [==============================] - 0s 1ms/step - loss: 1.0019 - accuracy: 0.9333\n",
      "Epoch 41/100\n",
      "6/6 [==============================] - 0s 1ms/step - loss: 0.9693 - accuracy: 0.9333\n",
      "Epoch 42/100\n",
      "6/6 [==============================] - 0s 1ms/step - loss: 0.9340 - accuracy: 0.9333\n",
      "Epoch 43/100\n",
      "6/6 [==============================] - 0s 1ms/step - loss: 0.8991 - accuracy: 0.9333\n",
      "Epoch 44/100\n",
      "6/6 [==============================] - 0s 1ms/step - loss: 0.8647 - accuracy: 0.9333\n",
      "Epoch 45/100\n",
      "6/6 [==============================] - 0s 951us/step - loss: 0.8310 - accuracy: 0.9667\n",
      "Epoch 46/100\n",
      "6/6 [==============================] - 0s 1ms/step - loss: 0.7971 - accuracy: 0.9667\n",
      "Epoch 47/100\n",
      "6/6 [==============================] - 0s 1ms/step - loss: 0.7634 - accuracy: 1.0000\n",
      "Epoch 48/100\n",
      "6/6 [==============================] - 0s 999us/step - loss: 0.7311 - accuracy: 1.0000\n",
      "Epoch 49/100\n",
      "6/6 [==============================] - 0s 1ms/step - loss: 0.6987 - accuracy: 1.0000\n",
      "Epoch 50/100\n",
      "6/6 [==============================] - 0s 1ms/step - loss: 0.6678 - accuracy: 1.0000\n",
      "Epoch 51/100\n",
      "6/6 [==============================] - 0s 1ms/step - loss: 0.6370 - accuracy: 1.0000\n",
      "Epoch 52/100\n",
      "6/6 [==============================] - 0s 1ms/step - loss: 0.6079 - accuracy: 1.0000\n",
      "Epoch 53/100\n",
      "6/6 [==============================] - 0s 1ms/step - loss: 0.5782 - accuracy: 1.0000\n",
      "Epoch 54/100\n",
      "6/6 [==============================] - 0s 1ms/step - loss: 0.5510 - accuracy: 1.0000\n",
      "Epoch 55/100\n",
      "6/6 [==============================] - 0s 1ms/step - loss: 0.5228 - accuracy: 1.0000\n",
      "Epoch 56/100\n",
      "6/6 [==============================] - 0s 1ms/step - loss: 0.4971 - accuracy: 1.0000\n",
      "Epoch 57/100\n",
      "6/6 [==============================] - 0s 1ms/step - loss: 0.4726 - accuracy: 1.0000\n",
      "Epoch 58/100\n",
      "6/6 [==============================] - 0s 986us/step - loss: 0.4483 - accuracy: 1.0000\n",
      "Epoch 59/100\n",
      "6/6 [==============================] - 0s 2ms/step - loss: 0.4265 - accuracy: 1.0000\n",
      "Epoch 60/100\n",
      "6/6 [==============================] - 0s 2ms/step - loss: 0.4045 - accuracy: 1.0000\n",
      "Epoch 61/100\n",
      "6/6 [==============================] - 0s 1ms/step - loss: 0.3859 - accuracy: 1.0000\n",
      "Epoch 62/100\n",
      "6/6 [==============================] - 0s 1ms/step - loss: 0.3652 - accuracy: 1.0000\n",
      "Epoch 63/100\n",
      "6/6 [==============================] - 0s 1ms/step - loss: 0.3470 - accuracy: 1.0000\n",
      "Epoch 64/100\n",
      "6/6 [==============================] - 0s 950us/step - loss: 0.3299 - accuracy: 1.0000\n",
      "Epoch 65/100\n",
      "6/6 [==============================] - 0s 910us/step - loss: 0.3129 - accuracy: 1.0000\n",
      "Epoch 66/100\n",
      "6/6 [==============================] - 0s 1ms/step - loss: 0.2978 - accuracy: 1.0000\n",
      "Epoch 67/100\n",
      "6/6 [==============================] - 0s 1ms/step - loss: 0.2835 - accuracy: 1.0000\n",
      "Epoch 68/100\n",
      "6/6 [==============================] - 0s 1ms/step - loss: 0.2687 - accuracy: 1.0000\n",
      "Epoch 69/100\n",
      "6/6 [==============================] - 0s 928us/step - loss: 0.2542 - accuracy: 1.0000\n",
      "Epoch 70/100\n",
      "6/6 [==============================] - 0s 1ms/step - loss: 0.2414 - accuracy: 1.0000\n",
      "Epoch 71/100\n",
      "6/6 [==============================] - 0s 1ms/step - loss: 0.2296 - accuracy: 1.0000\n",
      "Epoch 72/100\n",
      "6/6 [==============================] - 0s 1ms/step - loss: 0.2175 - accuracy: 1.0000\n",
      "Epoch 73/100\n",
      "6/6 [==============================] - 0s 1ms/step - loss: 0.2062 - accuracy: 1.0000\n",
      "Epoch 74/100\n",
      "6/6 [==============================] - 0s 1ms/step - loss: 0.1962 - accuracy: 1.0000\n",
      "Epoch 75/100\n",
      "6/6 [==============================] - 0s 1ms/step - loss: 0.1862 - accuracy: 1.0000\n",
      "Epoch 76/100\n",
      "6/6 [==============================] - 0s 1ms/step - loss: 0.1778 - accuracy: 1.0000\n",
      "Epoch 77/100\n",
      "6/6 [==============================] - 0s 1ms/step - loss: 0.1689 - accuracy: 1.0000\n",
      "Epoch 78/100\n",
      "6/6 [==============================] - 0s 1ms/step - loss: 0.1609 - accuracy: 1.0000\n",
      "Epoch 79/100\n",
      "6/6 [==============================] - 0s 1ms/step - loss: 0.1530 - accuracy: 1.0000\n",
      "Epoch 80/100\n",
      "6/6 [==============================] - 0s 1ms/step - loss: 0.1461 - accuracy: 1.0000\n",
      "Epoch 81/100\n",
      "6/6 [==============================] - 0s 1ms/step - loss: 0.1399 - accuracy: 1.0000\n",
      "Epoch 82/100\n",
      "6/6 [==============================] - 0s 1ms/step - loss: 0.1331 - accuracy: 1.0000\n",
      "Epoch 83/100\n",
      "6/6 [==============================] - 0s 1ms/step - loss: 0.1274 - accuracy: 1.0000\n",
      "Epoch 84/100\n",
      "6/6 [==============================] - 0s 1ms/step - loss: 0.1218 - accuracy: 1.0000\n",
      "Epoch 85/100\n",
      "6/6 [==============================] - 0s 999us/step - loss: 0.1164 - accuracy: 1.0000\n",
      "Epoch 86/100\n",
      "6/6 [==============================] - 0s 1ms/step - loss: 0.1116 - accuracy: 1.0000\n",
      "Epoch 87/100\n",
      "6/6 [==============================] - 0s 1ms/step - loss: 0.1066 - accuracy: 1.0000\n",
      "Epoch 88/100\n",
      "6/6 [==============================] - 0s 2ms/step - loss: 0.1023 - accuracy: 1.0000\n",
      "Epoch 89/100\n",
      "6/6 [==============================] - 0s 2ms/step - loss: 0.0981 - accuracy: 1.0000\n",
      "Epoch 90/100\n",
      "6/6 [==============================] - 0s 2ms/step - loss: 0.0942 - accuracy: 1.0000\n",
      "Epoch 91/100\n",
      "6/6 [==============================] - 0s 996us/step - loss: 0.0903 - accuracy: 1.0000\n",
      "Epoch 92/100\n",
      "6/6 [==============================] - 0s 1ms/step - loss: 0.0866 - accuracy: 1.0000\n",
      "Epoch 93/100\n",
      "6/6 [==============================] - 0s 1ms/step - loss: 0.0835 - accuracy: 1.0000\n",
      "Epoch 94/100\n",
      "6/6 [==============================] - 0s 1ms/step - loss: 0.0802 - accuracy: 1.0000\n",
      "Epoch 95/100\n",
      "6/6 [==============================] - 0s 1ms/step - loss: 0.0772 - accuracy: 1.0000\n",
      "Epoch 96/100\n",
      "6/6 [==============================] - 0s 4ms/step - loss: 0.0743 - accuracy: 1.0000\n",
      "Epoch 97/100\n",
      "6/6 [==============================] - 0s 2ms/step - loss: 0.0718 - accuracy: 1.0000\n",
      "Epoch 98/100\n",
      "6/6 [==============================] - 0s 2ms/step - loss: 0.0693 - accuracy: 1.0000\n",
      "Epoch 99/100\n",
      "6/6 [==============================] - 0s 2ms/step - loss: 0.0668 - accuracy: 1.0000\n",
      "Epoch 100/100\n",
      "6/6 [==============================] - 0s 2ms/step - loss: 0.0646 - accuracy: 1.0000\n"
     ]
    },
    {
     "data": {
      "text/plain": [
       "<keras.src.callbacks.History at 0x20f1b595a90>"
      ]
     },
     "execution_count": 8,
     "metadata": {},
     "output_type": "execute_result"
    }
   ],
   "source": [
    "ann.fit(X_train, y_train, batch_size=5, epochs = 100)"
   ]
  },
  {
   "cell_type": "code",
   "execution_count": 9,
   "metadata": {},
   "outputs": [
    {
     "name": "stdout",
     "output_type": "stream",
     "text": [
      "1/1 [==============================] - 0s 58ms/step\n"
     ]
    },
    {
     "data": {
      "text/plain": [
       "0"
      ]
     },
     "execution_count": 9,
     "metadata": {},
     "output_type": "execute_result"
    }
   ],
   "source": [
    "# Tag index of input sentence\n",
    "\n",
    "input_1 = \"Hello\"\n",
    "\n",
    "np.argmax(ann.predict(bag_of_words(input_1, all_words).reshape(1, -1)))"
   ]
  },
  {
   "cell_type": "markdown",
   "metadata": {},
   "source": [
    "# Response"
   ]
  },
  {
   "cell_type": "code",
   "execution_count": 10,
   "metadata": {},
   "outputs": [],
   "source": [
    "# Respond based on given set of training responses\n",
    "\n",
    "def respond(sentence):\n",
    "\n",
    "    '''\n",
    "    input : \n",
    "        sentence : input prompt from user\n",
    "\n",
    "    output : \n",
    "        response : text from given set of responses in training data\n",
    "        tag :      tag of input prompt\n",
    "    '''\n",
    "\n",
    "    words = tokenize(sentence)\n",
    "    sentence = [stem(w) for w in words if w not in ignore_words]\n",
    "    bag = bag_of_words(sentence, all_words).reshape(1, -1)\n",
    "    \n",
    "    probs = ann.predict(bag)\n",
    "    max_idx = np.argmax(probs)\n",
    "    response = np.random.choice(intents['intents'][max_idx]['responses'])\n",
    "    tag = intents['intents'][max_idx]['tag']\n",
    "\n",
    "    return response, tag\n"
   ]
  },
  {
   "cell_type": "code",
   "execution_count": 11,
   "metadata": {},
   "outputs": [
    {
     "name": "stdout",
     "output_type": "stream",
     "text": [
      "1/1 [==============================] - 0s 16ms/step\n"
     ]
    },
    {
     "data": {
      "text/plain": [
       "('Shipping takes 2-4 days', 'delivery')"
      ]
     },
     "execution_count": 11,
     "metadata": {},
     "output_type": "execute_result"
    }
   ],
   "source": [
    "input_2 = \"what is your delivery time\"\n",
    "\n",
    "respond(input_2)"
   ]
  },
  {
   "cell_type": "markdown",
   "metadata": {},
   "source": [
    "# Speech"
   ]
  },
  {
   "cell_type": "code",
   "execution_count": 12,
   "metadata": {},
   "outputs": [],
   "source": [
    "import speech_recognition as sr \n",
    "import pyttsx3\n",
    "\n",
    "engine = pyttsx3.init()"
   ]
  },
  {
   "cell_type": "code",
   "execution_count": 13,
   "metadata": {},
   "outputs": [
    {
     "name": "stdout",
     "output_type": "stream",
     "text": [
      "HKEY_LOCAL_MACHINE\\SOFTWARE\\Microsoft\\Speech\\Voices\\Tokens\\TTS_MS_EN-US_ZIRA_11.0\n",
      "HKEY_LOCAL_MACHINE\\SOFTWARE\\Microsoft\\Speech\\Voices\\Tokens\\TTS_MS_EN-US_DAVID_11.0\n",
      "HKEY_LOCAL_MACHINE\\SOFTWARE\\Microsoft\\Speech\\Voices\\Tokens\\MSTTS_V110_hiIN_KalpanaM\n"
     ]
    }
   ],
   "source": [
    "# list of languages available in your windows\n",
    "\n",
    "for voice in engine.getProperty('voices'):\n",
    "    print(voice.id)"
   ]
  },
  {
   "cell_type": "code",
   "execution_count": 14,
   "metadata": {},
   "outputs": [],
   "source": [
    "# Assigning language and voice\n",
    "\n",
    "lang = 'english'\n",
    "voc = engine.getProperty('voices')[1].id\n",
    "\n",
    "engine.setProperty('voice', voc)"
   ]
  },
  {
   "cell_type": "code",
   "execution_count": 15,
   "metadata": {},
   "outputs": [],
   "source": [
    "# Speech to text\n",
    "\n",
    "def get_transcript(lang):\n",
    "\n",
    "    ''' \n",
    "    input : \n",
    "        lang : language of voice input\n",
    "        \n",
    "    output : transcript, bool\n",
    "        if no error, returns transcript of given voice input and true.\n",
    "        else, returns error message and false.\n",
    "    '''\n",
    "\n",
    "    recognizer = sr.Recognizer()\n",
    "    audio = ' '\n",
    "    transcript = ' '\n",
    "\n",
    "    print(\"\\nListening ......\\n\")\n",
    "    \n",
    "    with sr.Microphone() as source:\n",
    "        audio = recognizer.listen(source)\n",
    "\n",
    "    try:\n",
    "        transcript = recognizer.recognize_google(audio, language=lang)\n",
    "        print(transcript)\n",
    "        return  transcript, True\n",
    "    \n",
    "    except sr.UnknownValueError:\n",
    "        print(\"Could not understand audio\")\n",
    "        return \"Could not understand audio\", False\n",
    "    \n",
    "    except sr.RequestError as e:\n",
    "        print(\"Could not request results\")\n",
    "        return \"Could not request results\", False\n",
    " "
   ]
  },
  {
   "cell_type": "code",
   "execution_count": 16,
   "metadata": {},
   "outputs": [],
   "source": [
    "# Text to speech\n",
    "\n",
    "def speak(response):\n",
    "    \n",
    "    '''\n",
    "    input : response \n",
    "        text to be converted to speech\n",
    "    '''\n",
    "\n",
    "    engine.say(response)\n",
    "    engine.runAndWait()\n"
   ]
  },
  {
   "cell_type": "markdown",
   "metadata": {},
   "source": [
    "# Main"
   ]
  },
  {
   "cell_type": "code",
   "execution_count": 17,
   "metadata": {},
   "outputs": [
    {
     "name": "stdout",
     "output_type": "stream",
     "text": [
      "\n",
      "Listening ......\n",
      "\n",
      "hello\n",
      "You :  hello\n",
      "1/1 [==============================] - 0s 16ms/step\n",
      "Chatbot :  Hi there, how can I help?\n",
      "\n",
      "Listening ......\n",
      "\n",
      "what is your delivery time\n",
      "You :  what is your delivery time\n",
      "1/1 [==============================] - 0s 14ms/step\n",
      "Chatbot :  Delivery takes 2-4 days\n",
      "\n",
      "Listening ......\n",
      "\n",
      "can I pay with cash\n",
      "You :  can I pay with cash\n",
      "1/1 [==============================] - 0s 15ms/step\n",
      "Chatbot :  We accept most major credit cards, and Paypal\n",
      "\n",
      "Listening ......\n",
      "\n",
      "okay thank you\n",
      "You :  okay thank you\n",
      "1/1 [==============================] - 0s 14ms/step\n",
      "Chatbot :  My pleasure\n",
      "\n",
      "Listening ......\n",
      "\n",
      "bye\n",
      "You :  bye\n",
      "1/1 [==============================] - 0s 17ms/step\n",
      "Chatbot :  See you later, thanks for visiting\n"
     ]
    }
   ],
   "source": [
    "while True :\n",
    "\n",
    "    text, correct = get_transcript(lang)\n",
    "    print(\"You : \", text)\n",
    "\n",
    "    response, tag = respond(text)\n",
    "\n",
    "    if correct :\n",
    "\n",
    "        print(\"Chatbot : \", response)\n",
    "        speak(response)\n",
    "\n",
    "        if tag == 'goodbye' :\n",
    "            break\n",
    "    else :\n",
    "\n",
    "        speak(text)"
   ]
  }
 ],
 "metadata": {
  "kernelspec": {
   "display_name": "base",
   "language": "python",
   "name": "python3"
  },
  "language_info": {
   "codemirror_mode": {
    "name": "ipython",
    "version": 3
   },
   "file_extension": ".py",
   "mimetype": "text/x-python",
   "name": "python",
   "nbconvert_exporter": "python",
   "pygments_lexer": "ipython3",
   "version": "3.11.5"
  }
 },
 "nbformat": 4,
 "nbformat_minor": 2
}
